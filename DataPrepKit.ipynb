{
 "cells": [
  {
   "cell_type": "code",
   "execution_count": 29,
   "metadata": {},
   "outputs": [],
   "source": [
    "import pandas as pd\n",
    "import matplotlib.pyplot as plt\n",
    "import numpy as np"
   ]
  },
  {
   "cell_type": "markdown",
   "metadata": {},
   "source": [
    "## 1. Data Reading:\n",
    "- Objective: Implement functions that can read data from different file formats such as CSV, Excel, and JSON.\n",
    "- Tools: Use Pandas for efficient data importing."
   ]
  },
  {
   "cell_type": "code",
   "execution_count": 45,
   "metadata": {},
   "outputs": [],
   "source": [
    "def csv(self, filePath):\n",
    "    return pd.read_csv(filePath)\n",
    "    \n",
    "def exel(self, filePath):\n",
    "    return pd.read_excel(filePath)\n",
    "    \n",
    "def json(self, filePath):\n",
    "    return pd.read_json(filePath)"
   ]
  },
  {
   "cell_type": "markdown",
   "metadata": {},
   "source": [
    "## 2. Data Summary:\n",
    "- Objective: Develop functions to print key statistical summaries of the data, including metrics like the average and most frequent values.\n",
    "- Tools: Utilize NumPy and Pandas to generate these summaries."
   ]
  },
  {
   "cell_type": "code",
   "execution_count": 41,
   "metadata": {},
   "outputs": [],
   "source": [
    "def summary(df):\n",
    "        summary = {\n",
    "            'Average': np.mean(df),\n",
    "            'Most frequent values': pd.Series(df).mode()\n",
    "        }\n",
    "        print(\"Statistical Summary:\")\n",
    "        for key, value in summary.items():\n",
    "            print(f\"{key}: {value}\")"
   ]
  },
  {
   "cell_type": "markdown",
   "metadata": {},
   "source": [
    "## 3. Handling Missing Values:\n",
    "- Objective: Create functions for addressing missing values, offering solutions to either remove or impute them based on set strategies.\n",
    "- Tools: Employ methods that ensure data integrity."
   ]
  },
  {
   "cell_type": "code",
   "execution_count": 44,
   "metadata": {},
   "outputs": [],
   "source": [
    "class Missing:\n",
    "    def __init__(self, df):\n",
    "        self.df = df\n",
    "        \n",
    "    def remove(self, threshold=0.5):\n",
    "        missing_ratios = self.df.isnull().mean()\n",
    "        columns_to_drop = missing_ratios[missing_ratios > threshold].index\n",
    "        self.df = self.df.drop(columns_to_drop, axis=1)\n",
    "    \n",
    "    def impute(self, strategy):\n",
    "        if strategy == 'mean':\n",
    "            self.df = self.df.fillna(self.df.mean())\n",
    "        elif strategy == 'median':\n",
    "            self.df = self.df.fillna(self.df.median())\n",
    "        elif strategy == 'mode':\n",
    "            self.df = self.df.fillna(self.df.mode().iloc[0])\n",
    "        elif strategy == 'constant':\n",
    "            self.df = self.df.fillna(0)\n",
    "        else:\n",
    "            raise ValueError(\"Invalid imputation strategy. Choose from 'mean', 'median', 'mode', 'constant', etc.\")\n",
    "    \n",
    "    def get_processed_data(self):\n",
    "        return self.df"
   ]
  },
  {
   "cell_type": "markdown",
   "metadata": {},
   "source": [
    "## 4. Categorical Data Encoding:\n",
    "- Objective: Design functions for encoding categorical data, allowing their conversion into numerical formats for analysis.\n",
    "- Tools: Implement encoding techniques effectively."
   ]
  },
  {
   "cell_type": "code",
   "execution_count": 46,
   "metadata": {},
   "outputs": [],
   "source": [
    "def one_hot_encode(df, columns=None):\n",
    "    if columns is None:\n",
    "        columns = df.select_dtypes(include=['object']).columns\n",
    "    encoded_df = pd.get_dummies(df, columns=columns, drop_first=True)\n",
    "    return encoded_df\n",
    "\n",
    "def label_encode(series):\n",
    "    encoded_series, _ = pd.factorize(series)\n",
    "    return encoded_series"
   ]
  }
 ],
 "metadata": {
  "kernelspec": {
   "display_name": "Python 3",
   "language": "python",
   "name": "python3"
  },
  "language_info": {
   "codemirror_mode": {
    "name": "ipython",
    "version": 3
   },
   "file_extension": ".py",
   "mimetype": "text/x-python",
   "name": "python",
   "nbconvert_exporter": "python",
   "pygments_lexer": "ipython3",
   "version": "3.12.2"
  }
 },
 "nbformat": 4,
 "nbformat_minor": 2
}
