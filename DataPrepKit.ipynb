{
 "cells": [
  {
   "cell_type": "code",
   "execution_count": 29,
   "metadata": {},
   "outputs": [],
   "source": [
    "import pandas as pd\n",
    "import matplotlib.pyplot as plt\n",
    "import numpy as np"
   ]
  },
  {
   "cell_type": "markdown",
   "metadata": {},
   "source": [
    "## 1. Data Reading:\n",
    "- Objective: Implement functions that can read data from different file formats such as CSV, Excel, and JSON.\n",
    "- Tools: Use Pandas for efficient data importing."
   ]
  },
  {
   "cell_type": "code",
   "execution_count": 32,
   "metadata": {},
   "outputs": [],
   "source": [
    "class dataReader():\n",
    "    def __init__(self):\n",
    "        pass\n",
    "\n",
    "    def csv(self, filePath):\n",
    "        return pd.read_csv(filePath)\n",
    "    \n",
    "    def exel(self, filePath):\n",
    "        return pd.read_excel(filePath)\n",
    "    \n",
    "    def json(self, filePath):\n",
    "        return pd.read_json(filePath)"
   ]
  },
  {
   "cell_type": "markdown",
   "metadata": {},
   "source": [
    "The user will call the funtion as: \n",
    "\n",
    " x = dataReader.csv(data.csv) --- for example"
   ]
  },
  {
   "cell_type": "markdown",
   "metadata": {},
   "source": [
    "## 2. Data Summary:\n",
    "- Objective: Develop functions to print key statistical summaries of the data, including metrics like the average and most frequent values.\n",
    "- Tools: Utilize NumPy and Pandas to generate these summaries."
   ]
  },
  {
   "cell_type": "code",
   "execution_count": 37,
   "metadata": {},
   "outputs": [],
   "source": [
    "def summary(data):\n",
    "        summary = {\n",
    "            'Average': np.mean(data),\n",
    "            'Most frequent values': pd.Series(data).mode()\n",
    "        }\n",
    "        print(\"Statistical Summary:\")\n",
    "        for key, value in summary.items():\n",
    "            print(f\"{key}: {value}\")"
   ]
  },
  {
   "cell_type": "code",
   "execution_count": null,
   "metadata": {},
   "outputs": [],
   "source": []
  }
 ],
 "metadata": {
  "kernelspec": {
   "display_name": "Python 3",
   "language": "python",
   "name": "python3"
  },
  "language_info": {
   "codemirror_mode": {
    "name": "ipython",
    "version": 3
   },
   "file_extension": ".py",
   "mimetype": "text/x-python",
   "name": "python",
   "nbconvert_exporter": "python",
   "pygments_lexer": "ipython3",
   "version": "3.12.2"
  }
 },
 "nbformat": 4,
 "nbformat_minor": 2
}
